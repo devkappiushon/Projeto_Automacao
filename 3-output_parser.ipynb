{
 "cells": [
  {
   "cell_type": "code",
   "execution_count": 1,
   "id": "3ebc3496",
   "metadata": {},
   "outputs": [],
   "source": [
    "feedback_produto = \"\"\"\n",
    "Estou muito satisfeito com o Smartphone XYZ Pro. O desempenho é excelente, e o sistema \n",
    "operacional é rápido e intuitivo. A câmera é um dos principais destaques, especialmente o \n",
    "modo noturno, que captura imagens incríveis mesmo em baixa iluminação. A duração da bateria \n",
    "também impressiona, durando facilmente um dia inteiro com uso intenso.\n",
    "Por outro lado, sinto que o produto poderia ser melhorado em alguns aspectos. A tela, \n",
    "embora tenha cores vibrantes, parece refletir bastante luz, dificultando o uso sob o sol. \n",
    "Além disso, o carregador incluído na caixa não oferece carregamento rápido, o que é um ponto \n",
    "negativo considerando o preço do aparelho\n",
    "\"\"\""
   ]
  },
  {
   "cell_type": "code",
   "execution_count": 2,
   "id": "f973ec25",
   "metadata": {},
   "outputs": [],
   "source": [
    "from langchain.prompts import ChatPromptTemplate\n",
    "\n",
    "review_template = ChatPromptTemplate.from_template(\"\"\"\n",
    "Para o texto a seguir, extraia as seguintes informações:\n",
    "produto: Nome do produto mencionado no texto.\n",
    "características_positivas: Liste todas as características positivas mencionadas sobre o produto.\n",
    "características_negativas: Liste todas as características negativas mencionadas sobre o produto.\n",
    "recomendação: O cliente recomenda o produto? Responda True para sim ou False para não.\n",
    "\n",
    "Texto: {review}\n",
    "\n",
    "Retorne a resposta no formato JSON\n",
    "\"\"\"\n",
    ")"
   ]
  },
  {
   "cell_type": "code",
   "execution_count": 3,
   "id": "3ab56102",
   "metadata": {},
   "outputs": [
    {
     "name": "stdout",
     "output_type": "stream",
     "text": [
      "[HumanMessage(content='\\nPara o texto a seguir, extraia as seguintes informações:\\nproduto: Nome do produto mencionado no texto.\\ncaracterísticas_positivas: Liste todas as características positivas mencionadas sobre o produto.\\ncaracterísticas_negativas: Liste todas as características negativas mencionadas sobre o produto.\\nrecomendação: O cliente recomenda o produto? Responda True para sim ou False para não.\\n\\nTexto: \\nEstou muito satisfeito com o Smartphone XYZ Pro. O desempenho é excelente, e o sistema \\noperacional é rápido e intuitivo. A câmera é um dos principais destaques, especialmente o \\nmodo noturno, que captura imagens incríveis mesmo em baixa iluminação. A duração da bateria \\ntambém impressiona, durando facilmente um dia inteiro com uso intenso.\\nPor outro lado, sinto que o produto poderia ser melhorado em alguns aspectos. A tela, \\nembora tenha cores vibrantes, parece refletir bastante luz, dificultando o uso sob o sol. \\nAlém disso, o carregador incluído na caixa não oferece carregamento rápido, o que é um ponto \\nnegativo considerando o preço do aparelho\\n\\n\\nRetorne a resposta no formato JSON\\n')]\n"
     ]
    }
   ],
   "source": [
    "print(review_template.format_messages(review=feedback_produto))"
   ]
  },
  {
   "cell_type": "code",
   "execution_count": null,
   "id": "70febd7f",
   "metadata": {},
   "outputs": [],
   "source": []
  }
 ],
 "metadata": {
  "kernelspec": {
   "display_name": ".venv",
   "language": "python",
   "name": "python3"
  },
  "language_info": {
   "codemirror_mode": {
    "name": "ipython",
    "version": 3
   },
   "file_extension": ".py",
   "mimetype": "text/x-python",
   "name": "python",
   "nbconvert_exporter": "python",
   "pygments_lexer": "ipython3",
   "version": "3.12.3"
  }
 },
 "nbformat": 4,
 "nbformat_minor": 5
}
