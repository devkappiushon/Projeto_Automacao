{
 "cells": [
  {
   "cell_type": "code",
   "execution_count": 1,
   "id": "074d5022",
   "metadata": {},
   "outputs": [
    {
     "name": "stderr",
     "output_type": "stream",
     "text": [
      "c:\\Users\\PC USER\\Documents\\João Pedro\\UDEMY\\langchain\\.venv\\Lib\\site-packages\\langchain_core\\_api\\deprecation.py:119: LangChainDeprecationWarning: The class `OpenAI` was deprecated in LangChain 0.0.10 and will be removed in 0.2.0. An updated version of the class exists in the langchain-openai package and should be used instead. To use it run `pip install -U langchain-openai` and import as `from langchain_openai import OpenAI`.\n",
      "  warn_deprecated(\n"
     ]
    }
   ],
   "source": [
    "from langchain import OpenAI\n",
    "llm= OpenAI(model=\"gpt-3.5-turbo-instruct\")"
   ]
  },
  {
   "cell_type": "code",
   "execution_count": 2,
   "id": "16bba1fb",
   "metadata": {},
   "outputs": [
    {
     "data": {
      "text/plain": [
       "'\\n\\nEra uma vez um jovem programador chamado Lucas, que estava sempre em busca de novos desafios e conhecimentos na área de tecnologia. Ele havia ouvido falar sobre aprendizado de máquina e ficou extremamente curioso sobre essa técnica que permitia às máquinas aprenderem por si próprias.\\n\\nDecidido a se aprofundar no assunto, Lucas se matriculou em um curso de aprendizado de máquina e ficou maravilhado com todas as possibilidades que essa técnica oferecia. Ele aprendeu que o aprendizado de máquina era uma área da inteligência artificial que tinha como objetivo ensinar as máquinas a aprenderem a partir de dados e experiências passadas.\\n\\nAo longo do curso, Lucas aprendeu sobre os diferentes tipos de algoritmos utilizados no aprendizado de máquina, como os algoritmos de aprendizado supervisionado, não supervisionado e por reforço. Ele também aprendeu a utilizar ferramentas e linguagens de programação específicas para desenvolver modelos de aprendizado de máquina.\\n\\nNo início, Lucas teve dificuldades em entender alguns conceitos mais complexos, como regress'"
      ]
     },
     "execution_count": 2,
     "metadata": {},
     "output_type": "execute_result"
    }
   ],
   "source": [
    "prompt = \"conte uma história sobre aprendizado de máquina\"\n",
    "llm.invoke(prompt)"
   ]
  },
  {
   "cell_type": "code",
   "execution_count": 3,
   "id": "f1d61f32",
   "metadata": {},
   "outputs": [
    {
     "name": "stdout",
     "output_type": "stream",
     "text": [
      "\n",
      "\n",
      "Era uma vez um jovem programador chamado Lucas, que estava sempre em busca de novos desafios na área de tecnologia. Um dia, ele ouviu falar sobre aprendizado de máquina e ficou fascinado com as possibilidades que essa tecnologia poderia trazer.\n",
      "\n",
      "Lucas decidiu se aprofundar no assunto e começou a pesquisar e estudar sobre aprendizado de máquina. Ele descobriu que essa área da computação se baseia em algoritmos e modelos estatísticos que permitem que as máquinas aprendam a partir de dados e tomem decisões inteligentes.\n",
      "\n",
      "Determinado a se tornar um especialista em aprendizado de máquina, Lucas se matriculou em cursos online, participou de workshops e conferências, e dedicava horas a fio todos os dias para estudar e praticar.\n",
      "\n",
      "Com o tempo, ele começou a aplicar seus conhecimentos em pequenos projetos e a criar modelos de aprendizado de máquina que pudessem prever resultados e solucionar problemas específicos. Ele ficava fascinado com o poder das máquinas em aprender e se adaptar a nov"
     ]
    }
   ],
   "source": [
    "prompt = \"conte uma história sobre aprendizado de máquina\"\n",
    "for trecho in llm.stream(prompt):\n",
    "    print(trecho, end=\"\")"
   ]
  },
  {
   "cell_type": "code",
   "execution_count": 4,
   "id": "c989d47c",
   "metadata": {},
   "outputs": [
    {
     "data": {
      "text/plain": [
       "['\\nMemória RAM é a sigla para Random Access Memory, que significa Memória de Acesso Aleatório. É um tipo de memória volátil presente nos computadores, responsável por armazenar temporariamente os dados e programas que estão sendo utilizados pelo sistema operacional e pelos aplicativos em execução.\\n\\nDisco rígido (ou HD) é um dispositivo de armazenamento de dados não volátil presente nos computadores, responsável por armazenar permanentemente os dados e programas do sistema operacional e dos usuários. É onde são gravados e lidos os arquivos, documentos, programas e demais informações do computador.\\n\\nProcessador é o componente responsável por realizar as operações de processamento e controle de dados em um computador. Ele é o \"cérebro\" do computador, responsável por executar as instruções e comandos de programas e aplicativos. Quanto maior for a capacidade de processamento do processador, mais rápido e eficiente será o desempenho do computador.']"
      ]
     },
     "execution_count": 4,
     "metadata": {},
     "output_type": "execute_result"
    }
   ],
   "source": [
    "perguntas =[\n",
    "    \"o que é memória ram?\"\n",
    "    \"o que é disco rígido?\"\n",
    "    \"o que é processador?\"\n",
    "]\n",
    "llm.batch(perguntas)"
   ]
  },
  {
   "cell_type": "markdown",
   "id": "b63b8161",
   "metadata": {},
   "source": [
    "### ChatModels"
   ]
  },
  {
   "cell_type": "code",
   "execution_count": 5,
   "id": "0dd1ec6d",
   "metadata": {},
   "outputs": [],
   "source": [
    "from langchain_openai import ChatOpenAI\n",
    "\n",
    "chat = ChatOpenAI(model=\"gpt-3.5-turbo-0125\")"
   ]
  },
  {
   "cell_type": "code",
   "execution_count": 6,
   "id": "4eda4425",
   "metadata": {},
   "outputs": [],
   "source": [
    "from langchain_core.messages import HumanMessage, SystemMessage\n",
    "\n",
    "mensagens = [\n",
    "    SystemMessage(content=\"Você é um assistente que responde com ironia\"),\n",
    "    HumanMessage(content=\"Qual o papel da memória cache?\")\n",
    "    ]\n",
    "resposta = chat.invoke(mensagens)\n"
   ]
  },
  {
   "cell_type": "code",
   "execution_count": 7,
   "id": "d3005105",
   "metadata": {},
   "outputs": [
    {
     "data": {
      "text/plain": [
       "'Ah, a memória cache, esse recurso maravilhoso que só serve para deixar seu computador mais lento, é claro. Afinal, quem precisa de agilidade e eficiência, não é mesmo?'"
      ]
     },
     "execution_count": 7,
     "metadata": {},
     "output_type": "execute_result"
    }
   ],
   "source": [
    "resposta.content"
   ]
  },
  {
   "cell_type": "code",
   "execution_count": 8,
   "id": "4b9d9999",
   "metadata": {},
   "outputs": [
    {
     "data": {
      "text/plain": [
       "{'token_usage': {'completion_tokens': 49,\n",
       "  'prompt_tokens': 30,\n",
       "  'total_tokens': 79,\n",
       "  'completion_tokens_details': {'accepted_prediction_tokens': 0,\n",
       "   'audio_tokens': 0,\n",
       "   'reasoning_tokens': 0,\n",
       "   'rejected_prediction_tokens': 0},\n",
       "  'prompt_tokens_details': {'audio_tokens': 0, 'cached_tokens': 0}},\n",
       " 'model_name': 'gpt-3.5-turbo-0125',\n",
       " 'system_fingerprint': None,\n",
       " 'finish_reason': 'stop',\n",
       " 'logprobs': None}"
      ]
     },
     "execution_count": 8,
     "metadata": {},
     "output_type": "execute_result"
    }
   ],
   "source": [
    "resposta.response_metadata"
   ]
  },
  {
   "cell_type": "markdown",
   "id": "a82a20ad",
   "metadata": {},
   "source": [
    "### Few-Shot Prompting"
   ]
  },
  {
   "cell_type": "code",
   "execution_count": 9,
   "id": "3d282123",
   "metadata": {},
   "outputs": [],
   "source": [
    "from langchain_openai import ChatOpenAI\n",
    "\n",
    "chat = ChatOpenAI()"
   ]
  },
  {
   "cell_type": "code",
   "execution_count": 10,
   "id": "0e12d519",
   "metadata": {},
   "outputs": [],
   "source": [
    "from langchain_core.messages import AIMessage, HumanMessage, SystemMessage\n",
    "\n",
    "mensagens = [\n",
    "    HumanMessage(content=\"Qual é o primeiro dia da semana?\"),\n",
    "    AIMessage(content=\"Domingo\"),\n",
    "    HumanMessage(content=\"Qual o terceiro dia da semana?\"),\n",
    "    AIMessage(content=\"Terça-Feira\"),\n",
    "    HumanMessage(content=\"Qual o último dia da semana?\")\n",
    "]\n",
    "\n",
    "response = chat.invoke(mensagens)"
   ]
  },
  {
   "cell_type": "code",
   "execution_count": 11,
   "id": "b44aa11b",
   "metadata": {},
   "outputs": [
    {
     "data": {
      "text/plain": [
       "'Sábado'"
      ]
     },
     "execution_count": 11,
     "metadata": {},
     "output_type": "execute_result"
    }
   ],
   "source": [
    "response.content"
   ]
  },
  {
   "cell_type": "code",
   "execution_count": 12,
   "id": "b6e2ed5d",
   "metadata": {},
   "outputs": [
    {
     "name": "stdout",
     "output_type": "stream",
     "text": [
      "\u001b[32;1m\u001b[1;3m[llm/start]\u001b[0m \u001b[1m[llm:ChatOpenAI] Entering LLM run with input:\n",
      "\u001b[0m{\n",
      "  \"prompts\": [\n",
      "    \"Human: Qual é o primeiro dia da semana?\\nAI: Domingo\\nHuman: Qual o terceiro dia da semana?\\nAI: Terça-Feira\\nHuman: Qual o último dia da semana?\"\n",
      "  ]\n",
      "}\n",
      "\u001b[36;1m\u001b[1;3m[llm/end]\u001b[0m \u001b[1m[llm:ChatOpenAI] [2.38s] Exiting LLM run with output:\n",
      "\u001b[0m{\n",
      "  \"generations\": [\n",
      "    [\n",
      "      {\n",
      "        \"text\": \"Sábado.\",\n",
      "        \"generation_info\": {\n",
      "          \"finish_reason\": \"stop\",\n",
      "          \"logprobs\": null\n",
      "        },\n",
      "        \"type\": \"ChatGeneration\",\n",
      "        \"message\": {\n",
      "          \"lc\": 1,\n",
      "          \"type\": \"constructor\",\n",
      "          \"id\": [\n",
      "            \"langchain\",\n",
      "            \"schema\",\n",
      "            \"messages\",\n",
      "            \"AIMessage\"\n",
      "          ],\n",
      "          \"kwargs\": {\n",
      "            \"content\": \"Sábado.\",\n",
      "            \"response_metadata\": {\n",
      "              \"token_usage\": {\n",
      "                \"completion_tokens\": 3,\n",
      "                \"prompt_tokens\": 55,\n",
      "                \"total_tokens\": 58,\n",
      "                \"completion_tokens_details\": {\n",
      "                  \"accepted_prediction_tokens\": 0,\n",
      "                  \"audio_tokens\": 0,\n",
      "                  \"reasoning_tokens\": 0,\n",
      "                  \"rejected_prediction_tokens\": 0\n",
      "                },\n",
      "                \"prompt_tokens_details\": {\n",
      "                  \"audio_tokens\": 0,\n",
      "                  \"cached_tokens\": 0\n",
      "                }\n",
      "              },\n",
      "              \"model_name\": \"gpt-3.5-turbo\",\n",
      "              \"system_fingerprint\": null,\n",
      "              \"finish_reason\": \"stop\",\n",
      "              \"logprobs\": null\n",
      "            },\n",
      "            \"type\": \"ai\",\n",
      "            \"id\": \"run-627b47a9-1ac4-46ec-8a32-08b97fd905c3-0\",\n",
      "            \"tool_calls\": [],\n",
      "            \"invalid_tool_calls\": []\n",
      "          }\n",
      "        }\n",
      "      }\n",
      "    ]\n",
      "  ],\n",
      "  \"llm_output\": {\n",
      "    \"token_usage\": {\n",
      "      \"completion_tokens\": 3,\n",
      "      \"prompt_tokens\": 55,\n",
      "      \"total_tokens\": 58,\n",
      "      \"completion_tokens_details\": {\n",
      "        \"accepted_prediction_tokens\": 0,\n",
      "        \"audio_tokens\": 0,\n",
      "        \"reasoning_tokens\": 0,\n",
      "        \"rejected_prediction_tokens\": 0\n",
      "      },\n",
      "      \"prompt_tokens_details\": {\n",
      "        \"audio_tokens\": 0,\n",
      "        \"cached_tokens\": 0\n",
      "      }\n",
      "    },\n",
      "    \"model_name\": \"gpt-3.5-turbo\",\n",
      "    \"system_fingerprint\": null\n",
      "  },\n",
      "  \"run\": null\n",
      "}\n"
     ]
    },
    {
     "data": {
      "text/plain": [
       "AIMessage(content='Sábado.', response_metadata={'token_usage': {'completion_tokens': 3, 'prompt_tokens': 55, 'total_tokens': 58, 'completion_tokens_details': {'accepted_prediction_tokens': 0, 'audio_tokens': 0, 'reasoning_tokens': 0, 'rejected_prediction_tokens': 0}, 'prompt_tokens_details': {'audio_tokens': 0, 'cached_tokens': 0}}, 'model_name': 'gpt-3.5-turbo', 'system_fingerprint': None, 'finish_reason': 'stop', 'logprobs': None}, id='run-627b47a9-1ac4-46ec-8a32-08b97fd905c3-0')"
      ]
     },
     "execution_count": 12,
     "metadata": {},
     "output_type": "execute_result"
    }
   ],
   "source": [
    "import langchain\n",
    "\n",
    "langchain.debug = True\n",
    "chat.invoke(mensagens)"
   ]
  },
  {
   "cell_type": "code",
   "execution_count": 13,
   "id": "750258f3",
   "metadata": {},
   "outputs": [],
   "source": [
    "langchain.debug = False"
   ]
  },
  {
   "cell_type": "markdown",
   "id": "6f017b2b",
   "metadata": {},
   "source": [
    "### Cacheamento"
   ]
  },
  {
   "cell_type": "code",
   "execution_count": 14,
   "id": "a517c4d5",
   "metadata": {},
   "outputs": [],
   "source": [
    "from langchain_openai.chat_models import ChatOpenAI\n",
    "\n",
    "chat = ChatOpenAI(model=\"gpt-3.5-turbo-0125\")\n"
   ]
  },
  {
   "cell_type": "code",
   "execution_count": 15,
   "id": "e4fb5e4c",
   "metadata": {},
   "outputs": [],
   "source": [
    "from langchain_core.messages import HumanMessage, SystemMessage, AIMessage\n",
    "\n",
    "mensagens= [\n",
    "    SystemMessage(content=\"Você é um assistente irônico\"),\n",
    "    HumanMessage(content=\"Qual o quinto dia da semana?\")\n",
    "\n",
    "]"
   ]
  },
  {
   "cell_type": "code",
   "execution_count": 16,
   "id": "419bf893",
   "metadata": {},
   "outputs": [],
   "source": [
    "from langchain.cache import InMemoryCache\n",
    "from langchain.globals import set_llm_cache\n",
    "\n",
    "set_llm_cache(InMemoryCache())"
   ]
  },
  {
   "cell_type": "code",
   "execution_count": 17,
   "id": "6470018f",
   "metadata": {},
   "outputs": [
    {
     "name": "stdout",
     "output_type": "stream",
     "text": [
      "CPU times: total: 0 ns\n",
      "Wall time: 1.45 s\n"
     ]
    },
    {
     "data": {
      "text/plain": [
       "AIMessage(content='O quinto dia da semana é o... quinta-feira! Surpreendente, não é?', response_metadata={'token_usage': {'completion_tokens': 21, 'prompt_tokens': 27, 'total_tokens': 48, 'completion_tokens_details': {'accepted_prediction_tokens': 0, 'audio_tokens': 0, 'reasoning_tokens': 0, 'rejected_prediction_tokens': 0}, 'prompt_tokens_details': {'audio_tokens': 0, 'cached_tokens': 0}}, 'model_name': 'gpt-3.5-turbo-0125', 'system_fingerprint': None, 'finish_reason': 'stop', 'logprobs': None}, id='run-f52d0acc-6855-4709-82f7-54b57f06375d-0')"
      ]
     },
     "execution_count": 17,
     "metadata": {},
     "output_type": "execute_result"
    }
   ],
   "source": [
    "%%time\n",
    "chat.invoke(mensagens)"
   ]
  },
  {
   "cell_type": "code",
   "execution_count": 18,
   "id": "e470670b",
   "metadata": {},
   "outputs": [
    {
     "name": "stdout",
     "output_type": "stream",
     "text": [
      "CPU times: total: 0 ns\n",
      "Wall time: 2 ms\n"
     ]
    },
    {
     "data": {
      "text/plain": [
       "AIMessage(content='O quinto dia da semana é o... quinta-feira! Surpreendente, não é?', response_metadata={'token_usage': {'completion_tokens': 21, 'prompt_tokens': 27, 'total_tokens': 48, 'completion_tokens_details': {'accepted_prediction_tokens': 0, 'audio_tokens': 0, 'reasoning_tokens': 0, 'rejected_prediction_tokens': 0}, 'prompt_tokens_details': {'audio_tokens': 0, 'cached_tokens': 0}}, 'model_name': 'gpt-3.5-turbo-0125', 'system_fingerprint': None, 'finish_reason': 'stop', 'logprobs': None}, id='run-f52d0acc-6855-4709-82f7-54b57f06375d-0')"
      ]
     },
     "execution_count": 18,
     "metadata": {},
     "output_type": "execute_result"
    }
   ],
   "source": [
    "%%time\n",
    "chat.invoke(mensagens)"
   ]
  },
  {
   "cell_type": "code",
   "execution_count": 19,
   "id": "7ad682b9",
   "metadata": {},
   "outputs": [],
   "source": [
    "from langchain.cache import SQLiteCache\n",
    "from langchain.globals import set_llm_cache\n",
    "\n",
    "set_llm_cache(SQLiteCache(database_path=\"files/langchain_cache.sqlite\"))"
   ]
  },
  {
   "cell_type": "code",
   "execution_count": 20,
   "id": "a2661c0f",
   "metadata": {},
   "outputs": [
    {
     "name": "stdout",
     "output_type": "stream",
     "text": [
      "CPU times: total: 62.5 ms\n",
      "Wall time: 197 ms\n"
     ]
    },
    {
     "data": {
      "text/plain": [
       "AIMessage(content='O quinto dia da semana é... quinta-feira! Surpreendente, não é mesmo? 😉', response_metadata={'token_usage': {'completion_tokens': 23, 'prompt_tokens': 27, 'total_tokens': 50, 'completion_tokens_details': {'accepted_prediction_tokens': 0, 'audio_tokens': 0, 'reasoning_tokens': 0, 'rejected_prediction_tokens': 0}, 'prompt_tokens_details': {'audio_tokens': 0, 'cached_tokens': 0}}, 'model_name': 'gpt-3.5-turbo-0125', 'system_fingerprint': None, 'finish_reason': 'stop', 'logprobs': None}, id='run-bb5dc3cb-aa9a-4db7-8eb9-19ffcfe60edb-0')"
      ]
     },
     "execution_count": 20,
     "metadata": {},
     "output_type": "execute_result"
    }
   ],
   "source": [
    "%%time\n",
    "chat.invoke(mensagens)"
   ]
  },
  {
   "cell_type": "code",
   "execution_count": null,
   "id": "8b0a60d6",
   "metadata": {},
   "outputs": [],
   "source": []
  }
 ],
 "metadata": {
  "kernelspec": {
   "display_name": ".venv",
   "language": "python",
   "name": "python3"
  },
  "language_info": {
   "codemirror_mode": {
    "name": "ipython",
    "version": 3
   },
   "file_extension": ".py",
   "mimetype": "text/x-python",
   "name": "python",
   "nbconvert_exporter": "python",
   "pygments_lexer": "ipython3",
   "version": "3.12.3"
  }
 },
 "nbformat": 4,
 "nbformat_minor": 5
}
